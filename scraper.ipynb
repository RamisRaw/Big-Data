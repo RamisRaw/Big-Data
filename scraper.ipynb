{
  "nbformat": 4,
  "nbformat_minor": 0,
  "metadata": {
    "colab": {
      "provenance": []
    },
    "kernelspec": {
      "name": "python3",
      "display_name": "Python 3"
    },
    "language_info": {
      "name": "python"
    }
  },
  "cells": [
    {
      "cell_type": "code",
      "execution_count": null,
      "metadata": {
        "id": "xP5GJp4Wn3ch"
      },
      "outputs": [],
      "source": [
        "from bs4 import BeautifulSoup\n",
        "import requests"
      ]
    },
    {
      "cell_type": "code",
      "source": [
        "url = 'https://seas.harvard.edu/faculty'\n",
        "page = requests.get(url)\n",
        "soup = BeautifulSoup(page.text, 'html.parser')\n",
        "print(soup)"
      ],
      "metadata": {
        "id": "L4JyrPyY-nD4"
      },
      "execution_count": null,
      "outputs": []
    },
    {
      "cell_type": "markdown",
      "source": [],
      "metadata": {
        "id": "-dqP1sdsDBtb"
      }
    },
    {
      "cell_type": "code",
      "source": [
        "soup.find('div')"
      ],
      "metadata": {
        "id": "79tJ7uAcCwa8"
      },
      "execution_count": null,
      "outputs": []
    },
    {
      "cell_type": "code",
      "source": [
        "faculty_names = []\n",
        "names = soup.find_all('h2', class_=\"person__detailed-name\")\n",
        "for name in names:\n",
        "  faculty_names.append(name.text.strip())\n",
        "#faculty names\n",
        "for name in faculty_names:\n",
        "  print(name)"
      ],
      "metadata": {
        "id": "F8_-olQ4Fp_A",
        "colab": {
          "base_uri": "https://localhost:8080/"
        },
        "outputId": "bdbce007-4572-485a-abed-4b16f30aee5b"
      },
      "execution_count": null,
      "outputs": [
        {
          "output_type": "stream",
          "name": "stdout",
          "text": [
            "Salma Abu Ayyash\n",
            "Joanna Aizenberg\n",
            "David Alvarez-Melis\n",
            "Nada Amin\n",
            "James G. Anderson\n",
            "Anurag Anshu\n",
            "Michael J. Aziz\n",
            "Demba Ba\n",
            "Boaz Barak\n",
            "Markus Thomas Basan\n",
            "Martin Bechthold\n",
            "Ignacio E. Becker Troncoso\n",
            "Katia Bertoldi\n",
            "Joze Bevk\n",
            "Johanna Beyer\n",
            "William H. Bossert\n",
            "Paul B. Bottino\n",
            "Karen Brennan\n",
            "Michael P. Brenner\n",
            "David Brooks\n"
          ]
        }
      ]
    },
    {
      "cell_type": "code",
      "source": [
        "faculty_titles = []\n",
        "titles = soup.find_all('div', class_=\"person-directory__primary-title\")\n",
        "\n",
        "for title in titles:\n",
        "    faculty_titles.append(title.text.strip())\n",
        "#faculty titles\n",
        "for title in faculty_titles:\n",
        "    print(title)"
      ],
      "metadata": {
        "id": "0taTVD39FaCs"
      },
      "execution_count": null,
      "outputs": []
    },
    {
      "cell_type": "code",
      "source": [
        "for name, title in zip(names, titles):\n",
        "    print(\"Name:\", name.text.strip())\n",
        "    print(\"Title:\", title.text.strip())\n",
        "    print(\"=\" * 176)"
      ],
      "metadata": {
        "id": "KMeHgLJ9Tj1Q"
      },
      "execution_count": null,
      "outputs": []
    },
    {
      "cell_type": "code",
      "source": [
        "bio_urls = []\n",
        "for faculty_name, faculty_title in zip(names, titles):\n",
        "    faculty_name = faculty_name.text.strip()\n",
        "    faculty_title = faculty_title.text.strip()\n",
        "\n",
        "    name_slug = faculty_name.replace(\" \",\"-\").lower()\n",
        "\n",
        "    bio_url = url +name_slug\n",
        "    bio_urls.append(bio_url)\n",
        "\n",
        "    print(\"Name:\", faculty_name)\n",
        "    print(\"Title:\", faculty_title)\n",
        "    print(\"Bio URL:\", bio_url)\n",
        "    print(\"=\" * 176)\n",
        "\n"
      ],
      "metadata": {
        "colab": {
          "base_uri": "https://localhost:8080/"
        },
        "id": "c7pyBkALYFoN",
        "outputId": "fb6626e6-f4bf-42be-a0c7-7c919c7337a0"
      },
      "execution_count": null,
      "outputs": [
        {
          "output_type": "stream",
          "name": "stdout",
          "text": [
            "Name: Salma Abu Ayyash\n",
            "Title: Preceptor in Educational Innovation\n",
            "Bio URL: https://seas.harvard.edu/facultysalma-abu-ayyash\n",
            "================================================================================================================================================================================\n",
            "Name: Joanna Aizenberg\n",
            "Title: Amy Smith Berylson Professor of Materials Science and Professor of Chemistry & Chemical Biology\n",
            "Bio URL: https://seas.harvard.edu/facultyjoanna-aizenberg\n",
            "================================================================================================================================================================================\n",
            "Name: David Alvarez-Melis\n",
            "Title: Assistant Professor of Computer Science\n",
            "Bio URL: https://seas.harvard.edu/facultydavid-alvarez-melis\n",
            "================================================================================================================================================================================\n",
            "Name: Nada Amin\n",
            "Title: Assistant Professor of Computer Science\n",
            "Bio URL: https://seas.harvard.edu/facultynada-amin\n",
            "================================================================================================================================================================================\n",
            "Name: James G. Anderson\n",
            "Title: Philip S. Weld Professor of Atmospheric Chemistry\n",
            "Bio URL: https://seas.harvard.edu/facultyjames-g.-anderson\n",
            "================================================================================================================================================================================\n",
            "Name: Anurag Anshu\n",
            "Title: Assistant Professor of Computer Science\n",
            "Bio URL: https://seas.harvard.edu/facultyanurag-anshu\n",
            "================================================================================================================================================================================\n",
            "Name: Michael J. Aziz\n",
            "Title: Gene and Tracy Sykes Professor of Materials and Energy Technologies\n",
            "Bio URL: https://seas.harvard.edu/facultymichael-j.-aziz\n",
            "================================================================================================================================================================================\n",
            "Name: Demba Ba\n",
            "Title: Gordon McKay Professor of Electrical Engineering\n",
            "Bio URL: https://seas.harvard.edu/facultydemba-ba\n",
            "================================================================================================================================================================================\n",
            "Name: Boaz Barak\n",
            "Title: Gordon McKay Professor of Computer Science\n",
            "Bio URL: https://seas.harvard.edu/facultyboaz-barak\n",
            "================================================================================================================================================================================\n",
            "Name: Markus Thomas Basan\n",
            "Title: Assistant Professor of Systems Biology; Affiliate in Applied Physics\n",
            "Bio URL: https://seas.harvard.edu/facultymarkus-thomas-basan\n",
            "================================================================================================================================================================================\n",
            "Name: Martin Bechthold\n",
            "Title: Kumagai Professor of Architectural Technology; Affiliate in Materials Science & Mechanical Engineering\n",
            "Bio URL: https://seas.harvard.edu/facultymartin-bechthold\n",
            "================================================================================================================================================================================\n",
            "Name: Ignacio E. Becker Troncoso\n",
            "Title: Lecturer on Computational Science and Data Science\n",
            "Bio URL: https://seas.harvard.edu/facultyignacio-e.-becker-troncoso\n",
            "================================================================================================================================================================================\n",
            "Name: Katia Bertoldi\n",
            "Title: William and Ami Kuan Danoff Professor of Applied Mechanics\n",
            "Bio URL: https://seas.harvard.edu/facultykatia-bertoldi\n",
            "================================================================================================================================================================================\n",
            "Name: Joze Bevk\n",
            "Title: Associate in Materials Science and Mechanical Engineering\n",
            "Bio URL: https://seas.harvard.edu/facultyjoze-bevk\n",
            "================================================================================================================================================================================\n",
            "Name: Johanna Beyer\n",
            "Title: Research Scientist in Computer Science\n",
            "Bio URL: https://seas.harvard.edu/facultyjohanna-beyer\n",
            "================================================================================================================================================================================\n",
            "Name: William H. Bossert\n",
            "Title: David B. Arnold, Jr. Professor of Science, Emeritus\n",
            "Bio URL: https://seas.harvard.edu/facultywilliam-h.-bossert\n",
            "================================================================================================================================================================================\n",
            "Name: Paul B. Bottino\n",
            "Title: Executive Director of Innovation Education\n",
            "Bio URL: https://seas.harvard.edu/facultypaul-b.-bottino\n",
            "================================================================================================================================================================================\n",
            "Name: Karen Brennan\n",
            "Title: Timothy E. Wirth Professor of Practice in Learning Technologies\n",
            "Bio URL: https://seas.harvard.edu/facultykaren-brennan\n",
            "================================================================================================================================================================================\n",
            "Name: Michael P. Brenner\n",
            "Title: Michael F. Cronin Professor of Applied Mathematics and Applied Physics and Professor of Physics\n",
            "Bio URL: https://seas.harvard.edu/facultymichael-p.-brenner\n",
            "================================================================================================================================================================================\n",
            "Name: David Brooks\n",
            "Title: Haley Family Professor of Computer Science\n",
            "Bio URL: https://seas.harvard.edu/facultydavid-brooks\n",
            "================================================================================================================================================================================\n"
          ]
        }
      ]
    },
    {
      "cell_type": "code",
      "source": [
        "file_name = \"bio_url.txt\""
      ],
      "metadata": {
        "id": "JfQlDdjka8Mp"
      },
      "execution_count": null,
      "outputs": []
    },
    {
      "cell_type": "code",
      "source": [
        "with open(file_name, \"w\") as file:\n",
        "\n",
        "    for bio_url in bio_urls:\n",
        "        file.write(bio_url + \"\\n\")\n",
        "print(f\"Bio URLs have been saved to '{file_name}'.\")"
      ],
      "metadata": {
        "colab": {
          "base_uri": "https://localhost:8080/"
        },
        "id": "5BEhhV1jbCA5",
        "outputId": "22209e0e-ed8a-4017-d9b1-be1cf0c45c37"
      },
      "execution_count": null,
      "outputs": [
        {
          "output_type": "stream",
          "name": "stdout",
          "text": [
            "Bio URLs have been saved to 'bio_url.txt'.\n"
          ]
        }
      ]
    },
    {
      "cell_type": "code",
      "source": [
        "#soup.find_all('div', class_=\"person-directory__contact\")"
      ],
      "metadata": {
        "id": "Rijm63saEd7J"
      },
      "execution_count": null,
      "outputs": []
    }
  ]
}